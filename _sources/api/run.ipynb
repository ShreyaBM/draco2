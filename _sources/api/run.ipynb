{
 "cells": [
  {
   "cell_type": "markdown",
   "id": "mechanical-pointer",
   "metadata": {},
   "source": [
    "# Run\n",
    "\n",
    "Draco can run programs in the Clingo solver. `draco.run` exposes the low-level functions to run a program in the solver and get back the satisfying models with the answer sets.\n",
    "\n",
    "Draco uses these methods in the [high-level APIs for checking specifications](spec.ipynb). If you use this API, make sure to read the [documentation of the Clingo Python API](https://potassco.org/clingo/python-api/current/). It covers how to work with answer sets and symbols."
   ]
  },
  {
   "cell_type": "markdown",
   "id": "promising-steal",
   "metadata": {},
   "source": [
    "## Available functions\n",
    "\n",
    "```{eval-rst}\n",
    ".. automodule:: draco.run\n",
    "   :members:\n",
    "```"
   ]
  },
  {
   "cell_type": "markdown",
   "id": "greatest-wholesale",
   "metadata": {},
   "source": [
    "## Usage Example"
   ]
  },
  {
   "cell_type": "code",
   "execution_count": 3,
   "id": "lonely-cigarette",
   "metadata": {},
   "outputs": [],
   "source": [
    "from draco import run_clingo"
   ]
  },
  {
   "cell_type": "code",
   "execution_count": 10,
   "id": "unauthorized-triple",
   "metadata": {},
   "outputs": [
    {
     "name": "stdout",
     "output_type": "stream",
     "text": [
      "Model(answer_set=[<clingo.symbol.Symbol object at 0x7fb128a1d670>, <clingo.symbol.Symbol object at 0x7fb128a1d550>], cost=[], number=1)\n",
      "a\n",
      "b\n"
     ]
    }
   ],
   "source": [
    "for model in run_clingo(\"a. b :- a.\"):\n",
    "    print(model)\n",
    "\n",
    "    print(model.answer_set[0])\n",
    "    print(model.answer_set[1])"
   ]
  },
  {
   "cell_type": "code",
   "execution_count": null,
   "id": "toxic-silicon",
   "metadata": {},
   "outputs": [],
   "source": []
  }
 ],
 "metadata": {
  "kernelspec": {
   "display_name": "Python 3",
   "language": "python",
   "name": "python3"
  },
  "language_info": {
   "codemirror_mode": {
    "name": "ipython",
    "version": 3
   },
   "file_extension": ".py",
   "mimetype": "text/x-python",
   "name": "python",
   "nbconvert_exporter": "python",
   "pygments_lexer": "ipython3",
   "version": "3.8.8"
  }
 },
 "nbformat": 4,
 "nbformat_minor": 5
}
